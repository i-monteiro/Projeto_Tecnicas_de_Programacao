{
 "cells": [
  {
   "cell_type": "markdown",
   "metadata": {},
   "source": [
    "# Mini projeto - Técnicas de Programação I\n",
    "\n",
    "**Aluno:** Ítalo da Silva Monteiro\n",
    "\n",
    "**Turma:** Unimed Campinas Data Academy | #1108\n",
    "\n",
    "## Objetivo\n",
    "Criar uma simulação para um jogo de dados. Essa simulação tem como objetivo reunir estatísticas para analisar a justiça do jogo, possíveis resultados e fazer previsões sobre jogos futuros.\n",
    "\n",
    "## Desafios do Projeto\n",
    "1- Simulação de Dados: Crie uma função que simule o lançamento de dois dados de seis lados (valores de 1 a 6). Esta função deve retornar a soma dos resultados dos dados.\n",
    "\n",
    "2- Múltiplas Simulações: Use a função do passo 1 para simular um grande número de jogos de dados (digamos, 1000 jogos). Armazene o resultado de cada jogo em um array NumPy.\n",
    "\n",
    "3- Análise de Dados: Agora, vamos analisar os resultados desses jogos. Calcule e imprima o seguinte:\n",
    "\n",
    "A média dos resultados.  \n",
    "O lançamento máximo e mínimo.  \n",
    "O número de vezes que cada possível lançamento (2, 3, 4, 5, 6, 7, 8, 9, 10, 11 e 12) ocorreu.  \n",
    "\n",
    "Teste de Hipótese: Agora vamos fazer um pouco de teste de hipóteses:  \n",
    "Supondo um jogo justo (ou seja, todos os lançamentos são igualmente prováveis), o resultado da sua simulação coincide com essa suposição?  \n",
    "Por que sim ou por que não?  \n",
    "O que isso significa para um jogador do jogo de dados?"
   ]
  },
  {
   "cell_type": "code",
   "execution_count": 15,
   "metadata": {},
   "outputs": [],
   "source": [
    "import numpy as np"
   ]
  },
  {
   "cell_type": "code",
   "execution_count": 16,
   "metadata": {},
   "outputs": [
    {
     "name": "stdout",
     "output_type": "stream",
     "text": [
      "O resultado da simulação foi: 9.\n"
     ]
    }
   ],
   "source": [
    "def simulacao_dados():\n",
    "    \"\"\"\n",
    "    A função simula o lançamento de dois dados de seis lados e retorna a soma dos resultados.\n",
    "\n",
    "    Esta função não recebe nenhum parâmetro. Ela usa a biblioteca numpy para gerar dois\n",
    "    números aleatórios entre 1 e 6, representando os resultados de lançar dois dados.\n",
    "\n",
    "    Retorna:\n",
    "        int: A soma dos dois números gerados, simulando a soma dos resultados de dois dados.\n",
    "\n",
    "    Exemplo:\n",
    "        --> lancamento_dados_numpy()\n",
    "        7  # O resultado pode variar a cada chamada, pois é aleatório.\n",
    "    \"\"\"\n",
    "    primeiro_dado = np.random.randint(1,7)\n",
    "    segundo_dado = np.random.randint(1,7)\n",
    "    \n",
    "    return primeiro_dado + segundo_dado\n",
    "\n",
    "print(f'O resultado da simulação foi: {simulacao_dados()}.')"
   ]
  },
  {
   "cell_type": "code",
   "execution_count": 17,
   "metadata": {},
   "outputs": [
    {
     "name": "stdout",
     "output_type": "stream",
     "text": [
      "Array criado --> [ 2  2  2  2  2  2  2  2  2  2  2  2  2  2  2  2  2  2  2  2  2  2  2  2\n",
      "  2  2  2  2  2  2  2  2  2  3  3  3  3  3  3  3  3  3  3  3  3  3  3  3\n",
      "  3  3  3  3  3  3  3  3  3  3  3  3  3  3  3  3  3  3  3  3  3  3  3  3\n",
      "  3  3  3  3  3  3  3  3  3  3  3  3  4  4  4  4  4  4  4  4  4  4  4  4\n",
      "  4  4  4  4  4  4  4  4  4  4  4  4  4  4  4  4  4  4  4  4  4  4  4  4\n",
      "  4  4  4  4  4  4  4  4  4  4  4  4  4  4  4  4  4  4  4  4  4  4  4  4\n",
      "  4  4  4  4  4  4  4  4  4  4  4  4  4  4  4  4  4  4  4  5  5  5  5  5\n",
      "  5  5  5  5  5  5  5  5  5  5  5  5  5  5  5  5  5  5  5  5  5  5  5  5\n",
      "  5  5  5  5  5  5  5  5  5  5  5  5  5  5  5  5  5  5  5  5  5  5  5  5\n",
      "  5  5  5  5  5  5  5  5  5  5  5  5  5  5  5  5  5  5  5  5  5  5  5  5\n",
      "  5  5  5  5  5  5  5  5  5  5  5  5  5  5  5  5  5  5  5  5  5  5  5  5\n",
      "  5  5  5  5  5  5  5  5  5  5  5  5  5  5  5  5  5  6  6  6  6  6  6  6\n",
      "  6  6  6  6  6  6  6  6  6  6  6  6  6  6  6  6  6  6  6  6  6  6  6  6\n",
      "  6  6  6  6  6  6  6  6  6  6  6  6  6  6  6  6  6  6  6  6  6  6  6  6\n",
      "  6  6  6  6  6  6  6  6  6  6  6  6  6  6  6  6  6  6  6  6  6  6  6  6\n",
      "  6  6  6  6  6  6  6  6  6  6  6  6  6  6  6  6  6  6  6  6  6  6  6  6\n",
      "  6  6  6  6  6  6  6  6  6  6  6  6  6  6  6  6  6  6  6  6  6  6  6  6\n",
      "  6  6  6  6  6  6  6  6  6  6  6  6  6  6  6  6  6  6  6  6  6  6  6  6\n",
      "  6  6  6  6  6  6  6  6  6  6  6  6  6  6  6  7  7  7  7  7  7  7  7  7\n",
      "  7  7  7  7  7  7  7  7  7  7  7  7  7  7  7  7  7  7  7  7  7  7  7  7\n",
      "  7  7  7  7  7  7  7  7  7  7  7  7  7  7  7  7  7  7  7  7  7  7  7  7\n",
      "  7  7  7  7  7  7  7  7  7  7  7  7  7  7  7  7  7  7  7  7  7  7  7  7\n",
      "  7  7  7  7  7  7  7  7  7  7  7  7  7  7  7  7  7  7  7  7  7  7  7  7\n",
      "  7  7  7  7  7  7  7  7  7  7  7  7  7  7  7  7  7  7  7  7  7  7  7  7\n",
      "  7  7  7  7  7  7  7  8  8  8  8  8  8  8  8  8  8  8  8  8  8  8  8  8\n",
      "  8  8  8  8  8  8  8  8  8  8  8  8  8  8  8  8  8  8  8  8  8  8  8  8\n",
      "  8  8  8  8  8  8  8  8  8  8  8  8  8  8  8  8  8  8  8  8  8  8  8  8\n",
      "  8  8  8  8  8  8  8  8  8  8  8  8  8  8  8  8  8  8  8  8  8  8  8  8\n",
      "  8  8  8  8  8  8  8  8  8  8  8  8  8  8  8  8  8  8  8  8  8  8  8  8\n",
      "  8  8  8  8  8  8  8  8  8  8  8  8  8  8  8  8  8  8  8  8  8  8  8  8\n",
      "  8  8  8  8  8  8  8  8  9  9  9  9  9  9  9  9  9  9  9  9  9  9  9  9\n",
      "  9  9  9  9  9  9  9  9  9  9  9  9  9  9  9  9  9  9  9  9  9  9  9  9\n",
      "  9  9  9  9  9  9  9  9  9  9  9  9  9  9  9  9  9  9  9  9  9  9  9  9\n",
      "  9  9  9  9  9  9  9  9  9  9  9  9  9  9  9  9  9  9  9  9  9  9  9  9\n",
      "  9  9  9  9  9  9  9  9  9  9  9  9  9  9  9  9  9  9  9  9  9  9  9 10\n",
      " 10 10 10 10 10 10 10 10 10 10 10 10 10 10 10 10 10 10 10 10 10 10 10 10\n",
      " 10 10 10 10 10 10 10 10 10 10 10 10 10 10 10 10 10 10 10 10 10 10 10 10\n",
      " 10 10 10 10 10 10 10 10 10 10 10 10 10 10 10 10 10 10 10 10 10 10 10 11\n",
      " 11 11 11 11 11 11 11 11 11 11 11 11 11 11 11 11 11 11 11 11 11 11 11 11\n",
      " 11 11 11 11 11 11 11 11 11 11 11 11 11 11 11 11 11 11 11 11 11 11 11 11\n",
      " 11 11 11 11 11 11 11 11 11 11 11 11 11 11 12 12 12 12 12 12 12 12 12 12\n",
      " 12 12 12 12 12 12 12 12 12 12 12 12 12 12 12 12]\n",
      "Soma --> 6957\n"
     ]
    }
   ],
   "source": [
    "np.random.seed(42) # definindo a semente para que os resultados aleatórios sejam fixos.\n",
    "num_jogos = np.array([simulacao_dados() for _ in range(1000)]) # Chama a função \"simulacao_dados\" 1000 vezes. \n",
    "num_jogos.sort() # Ordena o array em ordem crescente\n",
    "print(f'Array criado --> {num_jogos}') # Mostra na tela o conteúdo do array ordenado.\n",
    "print(f'Soma --> {num_jogos.sum()}') # Soma todos os resultados dos jogos e mostra na tela."
   ]
  },
  {
   "cell_type": "code",
   "execution_count": 18,
   "metadata": {},
   "outputs": [
    {
     "name": "stdout",
     "output_type": "stream",
     "text": [
      "A média dos resultados é: 6.96\n",
      "O lançamento máximo foi: 12\n",
      "O lançamento mínimo foi: 2\n",
      "Veja a frequência dos resultados: {2: 33, 3: 51, 4: 79, 5: 118, 6: 166, 7: 136, 8: 145, 9: 111, 10: 72, 11: 63, 12: 26}\n"
     ]
    }
   ],
   "source": [
    "media = round(num_jogos.mean(),2) # Calcula a média da soma de todos os jogos e mostra com 2 casas após o ponto.\n",
    "lancamento_max = num_jogos.max() # Traz o maior resultado da soma dos dois lados nas 1000 rodadas.\n",
    "lancamento_min = num_jogos.min() # Traz o menor resultado da soma dos dois lados nas 1000 rodadas.\n",
    "valores, contagens = np.unique(num_jogos, return_counts=True) # Traz os valores únicos e a quantidade de vezes que ele apareceu\n",
    "frequencias = dict(zip(valores, contagens)) # cria um dicionário onde a chave será o array \"valores\" (únicos) e o valor será o array \"contagens\" (vezes que apareceu)\n",
    "\n",
    "print(f'A média dos resultados é: {media}\\n'\n",
    "      f'O lançamento máximo foi: {lancamento_max}\\n'\n",
    "      f'O lançamento mínimo foi: {lancamento_min}\\n'\n",
    "      f'Veja a frequência dos resultados: {frequencias}')"
   ]
  },
  {
   "cell_type": "markdown",
   "metadata": {},
   "source": [
    "**Teste de hipótese:**\n",
    "\n",
    "Em um jogo justo de dois dados de seis lados, é esperado que os resultados sejam igualmente prováveis. Mas, a soma de dois lados não tem a mesma probabilidade. Exemplo, a soma **7** tem mais possibilidades **(6/36)**, pois há mais combinações **(1+6, 2+5, 3+4, 4+3, 5+2, 6+1)** que resultam em **7**. Já, as somas **2** e **12** são as menos prováveis **(1/36 para cada)**, pois há apenas uma combinação para cada número **(1+1 para 2 e 6+6 para 12)**.\n",
    "\n",
    "No meu caso os resultados se alinham com a expectativa teórica. Os números centrais (especialmente em torno de 6, 7 e 8) têm frequências mais altas, o que é esperado, pois existem mais combinações que resultam nesses números.\n",
    "Por exemplo, o número **7**, que teoricamente tem a maior probabilidade, ocorreu **136** vezes, que é uma alta frequência. O número **6** ocorreu **166** vezes, o que é interessante, pois indica uma variação que pode ocorrer em simulações.\n",
    "\n",
    "Para um jogador, isso reforça a ideia de que, embora certos resultados sejam mais prováveis, o acaso desempenha um papel significativo em qualquer jogo individual, e é bom estarmos cientes de que, mesmo que alguns resultados sejam teoricamente mais prováveis, isso não garante que eles ocorrerão mais frequentemente em uma série curta de jogos."
   ]
  }
 ],
 "metadata": {
  "kernelspec": {
   "display_name": "Python 3",
   "language": "python",
   "name": "python3"
  },
  "language_info": {
   "codemirror_mode": {
    "name": "ipython",
    "version": 3
   },
   "file_extension": ".py",
   "mimetype": "text/x-python",
   "name": "python",
   "nbconvert_exporter": "python",
   "pygments_lexer": "ipython3",
   "version": "3.11.5"
  }
 },
 "nbformat": 4,
 "nbformat_minor": 2
}
